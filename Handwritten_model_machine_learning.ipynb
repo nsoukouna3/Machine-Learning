{
  "nbformat": 4,
  "nbformat_minor": 0,
  "metadata": {
    "colab": {
      "provenance": [],
      "authorship_tag": "ABX9TyPleJiXGdYyBBq0PfsRXjGP",
      "include_colab_link": true
    },
    "kernelspec": {
      "name": "python3",
      "display_name": "Python 3"
    },
    "language_info": {
      "name": "python"
    }
  },
  "cells": [
    {
      "cell_type": "markdown",
      "metadata": {
        "id": "view-in-github",
        "colab_type": "text"
      },
      "source": [
        "<a href=\"https://colab.research.google.com/github/nsoukouna3/Machine-Learning/blob/main/Handwritten_model_machine_learning.ipynb\" target=\"_parent\"><img src=\"https://colab.research.google.com/assets/colab-badge.svg\" alt=\"Open In Colab\"/></a>"
      ]
    },
    {
      "cell_type": "code",
      "execution_count": 1,
      "metadata": {
        "id": "l_UGdG7BdYfX"
      },
      "outputs": [],
      "source": [
        "\n",
        "%matplotlib inline\n"
      ]
    },
    {
      "cell_type": "markdown",
      "source": [
        "**AI Task **"
      ],
      "metadata": {
        "id": "m5GB0DmyMKEE"
      }
    },
    {
      "cell_type": "markdown",
      "source": [
        "Our Goal is to construct and train  an artificial neural network on thousands of images of handwritten digits so that it may successfully identify others when presented. The data that will be imcorated is MNIST database which contains 60,000 images for training and 10,000 for test images. We will use the keras Python API with TensoFlow as the backend."
      ],
      "metadata": {
        "id": "-QUXmie0K2Qm"
      }
    },
    {
      "cell_type": "markdown",
      "source": [
        "\n",
        "\n",
        "\n",
        "\n",
        "\n",
        "**Importing Libraries**"
      ],
      "metadata": {
        "id": "rCy7GbBRVm12"
      }
    },
    {
      "cell_type": "code",
      "source": [
        "import numpy as np            # advaced math library\n",
        "import pandas as pd           # plotting modules\n",
        "import random                 # random modules for generating random numbers\n",
        "import matplotlib.pyplot as plt\n",
        "\n",
        "from keras.datasets import mnist           # import mnist dataset from keras\n",
        "from keras.models import Sequential         # Sequential model building from input layers to output layers\n",
        "from keras.layers import Dense, Dropout, Activation       #layers to be used\n",
        "#from keras.utils import np_utils\n"
      ],
      "metadata": {
        "id": "Qdwfq3ehK0pf"
      },
      "execution_count": 2,
      "outputs": []
    },
    {
      "cell_type": "markdown",
      "source": [
        "**Loading MNISt Data for Training**"
      ],
      "metadata": {
        "id": "DZPWpmuyWiJZ"
      }
    },
    {
      "cell_type": "code",
      "source": [
        "(x_train, y_train),(x_test, y_test)= mnist.load_data()\n",
        "print(\"x_train=\", x_train.shape)"
      ],
      "metadata": {
        "colab": {
          "base_uri": "https://localhost:8080/"
        },
        "id": "-PnNw3pxWzpc",
        "outputId": "6b03d567-e5a2-4447-99b7-a531510342b2"
      },
      "execution_count": 3,
      "outputs": [
        {
          "output_type": "stream",
          "name": "stdout",
          "text": [
            "Downloading data from https://storage.googleapis.com/tensorflow/tf-keras-datasets/mnist.npz\n",
            "11490434/11490434 [==============================] - 0s 0us/step\n",
            "x_train= (60000, 28, 28)\n"
          ]
        }
      ]
    },
    {
      "cell_type": "code",
      "source": [
        "print(\"y_train=\", y_train.shape)"
      ],
      "metadata": {
        "colab": {
          "base_uri": "https://localhost:8080/"
        },
        "id": "1jIuq3rpeb91",
        "outputId": "e4eea203-8738-4a09-91df-d65a63f40db3"
      },
      "execution_count": 4,
      "outputs": [
        {
          "output_type": "stream",
          "name": "stdout",
          "text": [
            "y_train= (60000,)\n"
          ]
        }
      ]
    },
    {
      "cell_type": "code",
      "source": [],
      "metadata": {
        "id": "NFd-oX4Xp0OY"
      },
      "execution_count": 4,
      "outputs": []
    },
    {
      "cell_type": "code",
      "source": [
        "print(\"y_test=\", y_test.shape)"
      ],
      "metadata": {
        "colab": {
          "base_uri": "https://localhost:8080/"
        },
        "id": "r7R1qJrfpTkB",
        "outputId": "a8fc58bf-acc3-4a3b-ede2-a97bd2b999bf"
      },
      "execution_count": 5,
      "outputs": [
        {
          "output_type": "stream",
          "name": "stdout",
          "text": [
            "y_test= (10000,)\n"
          ]
        }
      ]
    },
    {
      "cell_type": "code",
      "source": [
        "print(\"x_test=\", x_test.shape)"
      ],
      "metadata": {
        "colab": {
          "base_uri": "https://localhost:8080/"
        },
        "id": "TqigyBUkpKgX",
        "outputId": "f19beda0-7cb9-4858-defb-ef99bfaf60cb"
      },
      "execution_count": 6,
      "outputs": [
        {
          "output_type": "stream",
          "name": "stdout",
          "text": [
            "x_test= (10000, 28, 28)\n"
          ]
        }
      ]
    },
    {
      "cell_type": "markdown",
      "source": [
        "**Plotting image sample from training set**"
      ],
      "metadata": {
        "id": "okYlME_eqFmH"
      }
    },
    {
      "cell_type": "code",
      "source": [
        "plt.rcParams[\"figure.figsize\"]= (9,9)\n",
        "for i in range(9):\n",
        "  plt.subplot(3,3,i+1)\n",
        "  num=random.randint(0, len(x_train))\n",
        "  plt.imshow(x_train[num], cmap=\"gray\", interpolation=\"none\")\n",
        "  plt.title(\"class{}\".format(y_train[num]))\n",
        "\n",
        "  plt.tight_layout()"
      ],
      "metadata": {
        "colab": {
          "base_uri": "https://localhost:8080/",
          "height": 907
        },
        "id": "YudCH34qqWrn",
        "outputId": "63462eb7-1ce4-4279-83e3-78c371c5527f"
      },
      "execution_count": 7,
      "outputs": [
        {
          "output_type": "display_data",
          "data": {
            "text/plain": [
              "<Figure size 900x900 with 9 Axes>"
            ],
            "image/png": "[encoded data removed]"
          },
          "metadata": {}
        }
      ]
    },
    {
      "cell_type": "markdown",
      "source": [
        "**Examine Single Digit and print ou the array representing the last digit**"
      ],
      "metadata": {
        "id": "1sXHcptDyhvi"
      }
    },
    {
      "cell_type": "code",
      "source": [],
      "metadata": {
        "id": "ohjT8k-QyxdQ"
      },
      "execution_count": 7,
      "outputs": []
    }
  ]
}